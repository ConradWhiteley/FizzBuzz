{
 "cells": [
  {
   "cell_type": "markdown",
   "metadata": {},
   "source": [
    "# FizzBuzz\n",
    "\n",
    "Give a number $n$, for each integer $i$ in the range 1 to n inclusive, print one value per line as follows:\n",
    "* if $i$ is a multiple of both 3 and 5, print *FizzBuzz*\n",
    "* if $i$ is a multiple of 3 (but not 5) print *Fizz*\n",
    "* if i is a multiple of 5 (but not 3), print *Buzz*\n",
    "* if $i$ is not a multiple of 3 or 5, print the value of *i*\n",
    "\n",
    "\n",
    "**Function Description**\n",
    "Complete the function fizzBuzz in the editor below.\n",
    "\n",
    "fizzBuzz has the following parameter(s):\n",
    "\n",
    "    int n:    upper limit of values to test (inclusive)\n",
    "    Returns:  NONE\n",
    "    Prints:   The function must print the appropriate response for each value i in the set {1, 2, ... n} in ascending order, each on a separate line.\n",
    "\n",
    "\n",
    "**Constraints**\n",
    "0 < n < 2 × 105"
   ]
  },
  {
   "cell_type": "code",
   "execution_count": 7,
   "metadata": {},
   "outputs": [],
   "source": [
    "def fizzBuzz(n):\n",
    "    for i in range(1,n+1):\n",
    "        if i%15==0:\n",
    "            print('FizzBuzz')\n",
    "        elif i%3==0:\n",
    "            print('Fizz')\n",
    "        elif i%15==0:\n",
    "            print('Buzz')\n",
    "        else:\n",
    "            print(i)"
   ]
  },
  {
   "cell_type": "code",
   "execution_count": 6,
   "metadata": {},
   "outputs": [
    {
     "name": "stdout",
     "output_type": "stream",
     "text": [
      "1\n",
      "2\n",
      "Fizz\n",
      "4\n",
      "5\n",
      "Fizz\n",
      "7\n",
      "8\n",
      "Fizz\n",
      "10\n",
      "11\n",
      "Fizz\n",
      "13\n",
      "14\n",
      "FizzBuzz\n"
     ]
    }
   ],
   "source": [
    "if __name__ == '__main__':\n",
    "    n=15\n",
    "    fizzBuzz(n)"
   ]
  }
 ],
 "metadata": {
  "kernelspec": {
   "display_name": "Python 3",
   "language": "python",
   "name": "python3"
  },
  "language_info": {
   "codemirror_mode": {
    "name": "ipython",
    "version": 3
   },
   "file_extension": ".py",
   "mimetype": "text/x-python",
   "name": "python",
   "nbconvert_exporter": "python",
   "pygments_lexer": "ipython3",
   "version": "3.7.4"
  },
  "varInspector": {
   "cols": {
    "lenName": 16,
    "lenType": 16,
    "lenVar": 40
   },
   "kernels_config": {
    "python": {
     "delete_cmd_postfix": "",
     "delete_cmd_prefix": "del ",
     "library": "var_list.py",
     "varRefreshCmd": "print(var_dic_list())"
    },
    "r": {
     "delete_cmd_postfix": ") ",
     "delete_cmd_prefix": "rm(",
     "library": "var_list.r",
     "varRefreshCmd": "cat(var_dic_list()) "
    }
   },
   "types_to_exclude": [
    "module",
    "function",
    "builtin_function_or_method",
    "instance",
    "_Feature"
   ],
   "window_display": false
  }
 },
 "nbformat": 4,
 "nbformat_minor": 2
}
